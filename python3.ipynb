{
  "nbformat": 4,
  "nbformat_minor": 0,
  "metadata": {
    "colab": {
      "provenance": [],
      "authorship_tag": "ABX9TyNCjtK8dtqyTkbJYwWfPkuM",
      "include_colab_link": true
    },
    "kernelspec": {
      "name": "python3",
      "display_name": "Python 3"
    },
    "language_info": {
      "name": "python"
    }
  },
  "cells": [
    {
      "cell_type": "markdown",
      "metadata": {
        "id": "view-in-github",
        "colab_type": "text"
      },
      "source": [
        "<a href=\"https://colab.research.google.com/github/ItsPatthanan/ENGCE119/blob/main/python3.ipynb\" target=\"_parent\"><img src=\"https://colab.research.google.com/assets/colab-badge.svg\" alt=\"Open In Colab\"/></a>"
      ]
    },
    {
      "cell_type": "code",
      "execution_count": null,
      "metadata": {
        "colab": {
          "base_uri": "https://localhost:8080/"
        },
        "id": "llNW9NXhZsXs",
        "outputId": "f50b6195-dcb3-43b6-9d2b-efafb693cee8"
      },
      "outputs": [
        {
          "output_type": "execute_result",
          "data": {
            "text/plain": [
              "0.004524886877828055"
            ]
          },
          "metadata": {},
          "execution_count": 2
        }
      ],
      "source": [
        "from math import factorial\n",
        "def choose(n,r):\n",
        "  res = factorial(n)/(factorial(r)*factorial(n-r))\n",
        "  return int(res)\n",
        "choose(4,2)/choose(52,2)\n"
      ]
    },
    {
      "cell_type": "code",
      "source": [
        "#card deck\n",
        "import itertools\n",
        "\n",
        "suits = ['spade','heart','diamond','club'] #ดอก\n",
        "ranks = ['A','2','3','4','5','6','7','8','9','10','J','Q','K'] #เลข\n",
        "\n",
        "deck = list(itertools.product(suits,ranks))\n",
        "len(deck)"
      ],
      "metadata": {
        "colab": {
          "base_uri": "https://localhost:8080/"
        },
        "id": "O3yz616Jcka_",
        "outputId": "e389ac99-5681-45a3-b6fb-ffa4c2e1fd24"
      },
      "execution_count": 11,
      "outputs": [
        {
          "output_type": "execute_result",
          "data": {
            "text/plain": [
              "52"
            ]
          },
          "metadata": {},
          "execution_count": 11
        }
      ]
    },
    {
      "cell_type": "code",
      "source": [
        "import random\n",
        "count = 0\n",
        "n =1000\n",
        "for i in range(n):\n",
        "  random.shuffle(deck)\n",
        "  if deck[0][1 ] == 'Q' and deck[1][1] == 'Q':\n",
        "    #print('Yesss',deck[0],deck[1])\n",
        "    count = count + 1\n",
        "count/n"
      ],
      "metadata": {
        "id": "4BLYjtfLbyKl",
        "colab": {
          "base_uri": "https://localhost:8080/"
        },
        "outputId": "93140183-7330-4dcf-8c44-741d3a59cea4"
      },
      "execution_count": 19,
      "outputs": [
        {
          "output_type": "execute_result",
          "data": {
            "text/plain": [
              "0.007"
            ]
          },
          "metadata": {},
          "execution_count": 19
        }
      ]
    },
    {
      "cell_type": "code",
      "source": [
        "choose(13,2)/choose(52,2)"
      ],
      "metadata": {
        "colab": {
          "base_uri": "https://localhost:8080/"
        },
        "id": "o7GZ9BwHfk8G",
        "outputId": "ce8d078d-c32f-470c-ee8f-6b55130d4389"
      },
      "execution_count": 18,
      "outputs": [
        {
          "output_type": "execute_result",
          "data": {
            "text/plain": [
              "0.058823529411764705"
            ]
          },
          "metadata": {},
          "execution_count": 18
        }
      ]
    }
  ]
}